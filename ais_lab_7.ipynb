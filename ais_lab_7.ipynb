{
 "nbformat": 4,
 "nbformat_minor": 0,
 "metadata": {
  "colab": {
   "provenance": []
  },
  "kernelspec": {
   "name": "python3",
   "display_name": "Python 3"
  },
  "language_info": {
   "name": "python"
  }
 },
 "cells": [
  {
   "cell_type": "markdown",
   "source": [
    "# Подготовка данных"
   ],
   "metadata": {
    "id": "Gin4c35GvQ_l"
   }
  },
  {
   "cell_type": "code",
   "execution_count": null,
   "metadata": {
    "id": "n6dBzvPLsa0L",
    "is_executing": true
   },
   "outputs": [],
   "source": [
    "import pandas as pd\n",
    "import numpy as np\n",
    "import seaborn as sns\n",
    "import random\n",
    "import math\n",
    "from prettytable import PrettyTable"
   ]
  },
  {
   "cell_type": "code",
   "source": [
    "data = pd.read_csv(\"/content/drive/MyDrive/ais-datasets/diabetes.csv\")\n",
    "data"
   ],
   "metadata": {
    "colab": {
     "base_uri": "https://localhost:8080/",
     "height": 419
    },
    "id": "k95bzp17zp52",
    "outputId": "de4ae80a-c835-45f6-a3ef-86448ffa5d1b",
    "is_executing": true
   },
   "execution_count": null,
   "outputs": []
  },
  {
   "cell_type": "markdown",
   "source": [
    "# Предварительная обработка"
   ],
   "metadata": {
    "id": "Y_f__nhbA9Ie"
   }
  },
  {
   "cell_type": "code",
   "source": [
    "data.info()"
   ],
   "metadata": {
    "colab": {
     "base_uri": "https://localhost:8080/"
    },
    "id": "Im9yuu0QGbUM",
    "outputId": "ec8eb77d-d40b-465c-bd9b-ff8accb46ab5",
    "is_executing": true
   },
   "execution_count": null,
   "outputs": []
  },
  {
   "cell_type": "code",
   "source": [
    "data.shape"
   ],
   "metadata": {
    "colab": {
     "base_uri": "https://localhost:8080/"
    },
    "id": "R-T6O3-KGcqM",
    "outputId": "64a2dddd-5f8f-471c-f419-3dee0920f1c3",
    "is_executing": true
   },
   "execution_count": null,
   "outputs": []
  },
  {
   "cell_type": "code",
   "source": [
    "data.isnull().sum()"
   ],
   "metadata": {
    "colab": {
     "base_uri": "https://localhost:8080/"
    },
    "id": "p2i6DxdvGdpA",
    "outputId": "c4038b48-0dd5-4e66-f6d6-b0c18019eb4a",
    "is_executing": true
   },
   "execution_count": null,
   "outputs": []
  },
  {
   "cell_type": "markdown",
   "source": [
    "Отсутствующих значений не обнаружено"
   ],
   "metadata": {
    "id": "JfvhOilzGo3S"
   }
  },
  {
   "cell_type": "markdown",
   "source": [
    "# Разделение датасета на матрицу признаков `X` и вектор зависимых переменных `Y`"
   ],
   "metadata": {
    "id": "aQQgVEKuBCLu"
   }
  },
  {
   "cell_type": "code",
   "source": [
    "X = data.drop('Outcome', axis=1)\n",
    "Y = data['Outcome']"
   ],
   "metadata": {
    "id": "3RV6vuAHGuyu",
    "is_executing": true
   },
   "execution_count": null,
   "outputs": []
  },
  {
   "cell_type": "code",
   "source": [
    "X"
   ],
   "metadata": {
    "colab": {
     "base_uri": "https://localhost:8080/",
     "height": 419
    },
    "id": "8V01faoZG3YQ",
    "outputId": "42f495c7-30ae-4d71-84c6-3fe51510734a",
    "is_executing": true
   },
   "execution_count": null,
   "outputs": []
  },
  {
   "cell_type": "code",
   "source": [
    "Y"
   ],
   "metadata": {
    "colab": {
     "base_uri": "https://localhost:8080/"
    },
    "id": "M-hgAdKOHA9n",
    "outputId": "7c3f6ae6-63c8-4cfc-d746-7e41835aa58f",
    "is_executing": true
   },
   "execution_count": null,
   "outputs": []
  },
  {
   "cell_type": "markdown",
   "source": [
    "# Кодирование категориальных признаков"
   ],
   "metadata": {
    "id": "W3n_mniCBIYm"
   }
  },
  {
   "cell_type": "markdown",
   "source": [
    "Не требуется:"
   ],
   "metadata": {
    "id": "1WckAPObHTLt"
   }
  },
  {
   "cell_type": "code",
   "source": [
    "X"
   ],
   "metadata": {
    "colab": {
     "base_uri": "https://localhost:8080/",
     "height": 419
    },
    "id": "WxOsfHU_HRxt",
    "outputId": "140d4300-d921-449f-9ea4-113386f1b259",
    "is_executing": true
   },
   "execution_count": null,
   "outputs": []
  },
  {
   "cell_type": "markdown",
   "source": [
    "# Разделение данных на обучающую и тестовую выборки"
   ],
   "metadata": {
    "id": "OjSOSEuMBMKi"
   }
  },
  {
   "cell_type": "code",
   "source": [
    "# Список индексов данных\n",
    "indices = list(range(len(X)))\n",
    "\n",
    "# Размер тестовой выборки\n",
    "test_size = 0.2 # 20%\n",
    "\n",
    "# Начальное состояние генератора случайных чисел\n",
    "random.seed(42)\n",
    "\n",
    "# Шафлим данные (чтобы потом не балансировать)\n",
    "random.shuffle(indices)\n",
    "\n",
    "split_index = int(len(X) * test_size)\n",
    "\n",
    "X_train = X.iloc[indices[split_index:]]\n",
    "X_test = X.iloc[indices[:split_index]]\n",
    "Y_train = Y.iloc[indices[split_index:]]\n",
    "Y_test = Y.iloc[indices[:split_index]]"
   ],
   "metadata": {
    "id": "YM5RwInvHen-",
    "is_executing": true
   },
   "execution_count": null,
   "outputs": []
  },
  {
   "cell_type": "markdown",
   "source": [
    "Данные после разделения:"
   ],
   "metadata": {
    "id": "-gdL772zHp0K"
   }
  },
  {
   "cell_type": "code",
   "source": [
    "print('X_train ->', X_train.shape)\n",
    "print('X_test ->', X_test.shape)\n",
    "print('Y_train ->', Y_train.shape)\n",
    "print('Y_test ->', Y_test.shape)"
   ],
   "metadata": {
    "colab": {
     "base_uri": "https://localhost:8080/"
    },
    "id": "Q-ofxqh7Hr_u",
    "outputId": "46088139-4f60-4075-e777-3192cae1439e",
    "is_executing": true
   },
   "execution_count": null,
   "outputs": []
  },
  {
   "cell_type": "markdown",
   "source": [
    "# Масштабирование данных"
   ],
   "metadata": {
    "id": "bY4lDQ4sBOHR"
   }
  },
  {
   "cell_type": "markdown",
   "source": [
    "## Min-max scaler"
   ],
   "metadata": {
    "id": "L70ipJKDI7Kc"
   }
  },
  {
   "cell_type": "markdown",
   "source": [
    "Для обучающей выборки"
   ],
   "metadata": {
    "id": "8fKWye5LJCnH"
   }
  },
  {
   "cell_type": "code",
   "source": [
    "for column_name, params in X_train.items():\n",
    "  minimum = min(params)\n",
    "  maximum = max(params)\n",
    "  difference = maximum - minimum\n",
    "  X_train[column_name] = (X_train[column_name] - minimum) / difference"
   ],
   "metadata": {
    "colab": {
     "base_uri": "https://localhost:8080/"
    },
    "id": "zcjKpgmhI90t",
    "outputId": "8a916608-ca71-47e3-d430-4d59c75def9d",
    "is_executing": true
   },
   "execution_count": null,
   "outputs": []
  },
  {
   "cell_type": "markdown",
   "source": [
    "Для тестовой выборки"
   ],
   "metadata": {
    "id": "6wHTRutGJEIL"
   }
  },
  {
   "cell_type": "code",
   "source": [
    "for column_name, params in X_test.items():\n",
    "  minimum = min(params)\n",
    "  maximum = max(params)\n",
    "  difference = maximum - minimum\n",
    "  X_test[column_name] = (X_test[column_name] - minimum) / difference"
   ],
   "metadata": {
    "colab": {
     "base_uri": "https://localhost:8080/"
    },
    "id": "YcMYWCNxJFKJ",
    "outputId": "ca3ee7b6-6a48-45cd-d2d1-cc147f0d683f",
    "is_executing": true
   },
   "execution_count": null,
   "outputs": []
  },
  {
   "cell_type": "markdown",
   "source": [
    "Данные после масштабирования"
   ],
   "metadata": {
    "id": "Le6q1jriJIfE"
   }
  },
  {
   "cell_type": "code",
   "source": [
    "X_train.head()"
   ],
   "metadata": {
    "colab": {
     "base_uri": "https://localhost:8080/",
     "height": 204
    },
    "id": "lt0zelu0JK1g",
    "outputId": "015d1bbc-ee65-41db-95a3-2524afb0b99d",
    "is_executing": true
   },
   "execution_count": null,
   "outputs": []
  },
  {
   "cell_type": "code",
   "source": [
    "X_test.head()"
   ],
   "metadata": {
    "colab": {
     "base_uri": "https://localhost:8080/",
     "height": 204
    },
    "id": "evEXQgF6JMfT",
    "outputId": "68caa20b-30d9-4d21-b759-0a6aa5a7f640",
    "is_executing": true
   },
   "execution_count": null,
   "outputs": []
  },
  {
   "cell_type": "markdown",
   "source": [
    "# Реализация метода логистической регрессии"
   ],
   "metadata": {
    "id": "GdIYDktNBSHk"
   }
  },
  {
   "cell_type": "markdown",
   "source": [
    "## Определим сигмоидную функцию и функцию потерь"
   ],
   "metadata": {
    "id": "5BsGJID2SDNC"
   }
  },
  {
   "cell_type": "code",
   "source": [
    "def sig(t):\n",
    "    return 1 / (1 + np.exp(-t))"
   ],
   "metadata": {
    "id": "xC2VkTiXJzPv",
    "is_executing": true
   },
   "execution_count": null,
   "outputs": []
  },
  {
   "cell_type": "code",
   "source": [
    "def cost(Y_actual, Y_predicted):\n",
    "    return -np.mean(Y_actual * np.log(Y_predicted) + (1 - Y_actual) * np.log(1 - Y_predicted))"
   ],
   "metadata": {
    "id": "o5Y6jyxUSwwy",
    "is_executing": true
   },
   "execution_count": null,
   "outputs": []
  },
  {
   "cell_type": "markdown",
   "source": [
    "## Определим методы обучения"
   ],
   "metadata": {
    "id": "QyPDA21kUXL5"
   }
  },
  {
   "cell_type": "markdown",
   "source": [
    "### Градиентный спуск"
   ],
   "metadata": {
    "id": "Vxh63ekRUfbO"
   }
  },
  {
   "cell_type": "code",
   "source": [
    "def gradient_descent(X_train, Y_train, iterations, learning_rate):\n",
    "    objects_num, characteristics_num = X_train.shape\n",
    "\n",
    "    weights = np.zeros(characteristics_num)\n",
    "    losses = []\n",
    "    bias = 0\n",
    "\n",
    "    for iteration in range(1, iterations + 1):\n",
    "\n",
    "        t = np.dot(X_train, weights) + bias\n",
    "        #  prediction\n",
    "        z = sig(t)\n",
    "\n",
    "        #  ЧП стоимости по весам\n",
    "        dw = (1 / objects_num) * np.dot(X_train.T, (z - Y_train))\n",
    "        #  ЧП стоимости по смещению\n",
    "        db = (1 / objects_num) * np.sum(z - Y_train)\n",
    "\n",
    "        weights -= learning_rate * dw\n",
    "        bias -= learning_rate * db\n",
    "\n",
    "        if iteration % 100 == 0:\n",
    "            loss = cost(Y_train, z)\n",
    "            losses.append(loss)\n",
    "            # print(f'{iteration}) cost = {loss}')\n",
    "\n",
    "    coeff = {'weights': weights, 'bias': bias}\n",
    "    return coeff, losses\n",
    "\n",
    "# gradient_descent(X_train, Y_train, 100, 0.01)"
   ],
   "metadata": {
    "id": "ykb62pY7Uegv",
    "is_executing": true
   },
   "execution_count": null,
   "outputs": []
  },
  {
   "cell_type": "markdown",
   "source": [
    "### Оптимизация Ньютона"
   ],
   "metadata": {
    "id": "h7TIlHYWUkVf"
   }
  },
  {
   "cell_type": "code",
   "source": [
    "def newton_optimization(X_train, Y_train, iterations):\n",
    "    objects_num, characteristics_num = X_train.shape\n",
    "\n",
    "    weights = np.zeros(characteristics_num)\n",
    "    losses = []\n",
    "    bias = 0\n",
    "\n",
    "    for iteration in range(1, iterations + 1):\n",
    "\n",
    "        t = np.dot(X_train, weights) + bias\n",
    "        #  prediction\n",
    "        z = sig(t)\n",
    "\n",
    "        #  ЧП стоимости по весам\n",
    "        dw = (1 / objects_num) * np.dot(X_train.T, (z - Y_train))\n",
    "        #  ЧП стоимости по смещению\n",
    "        db = (1 / objects_num) * np.sum(z - Y_train)\n",
    "\n",
    "        hessian = (1 / objects_num) * (X_train.T @ ((z * (1 - z)) * X_train.T).T)\n",
    "\n",
    "        weights -= np.linalg.inv(hessian) @ dw\n",
    "        bias -= db\n",
    "\n",
    "        if iteration % 100 == 0:\n",
    "            loss = cost(Y_train, z)\n",
    "            losses.append(loss)\n",
    "            # print(f'{iteration}) cost = {loss}')\n",
    "\n",
    "    coeff = {'weights': weights, 'bias': bias}\n",
    "    return coeff, losses\n",
    "\n",
    "# newton_optimization(X_train, Y_train, 100, 0.01)"
   ],
   "metadata": {
    "id": "Thn_ZnAKWKD7",
    "is_executing": true
   },
   "execution_count": null,
   "outputs": []
  },
  {
   "cell_type": "markdown",
   "source": [
    "## Определим функцию предсказания"
   ],
   "metadata": {
    "id": "zhDJjis_yrF7"
   }
  },
  {
   "cell_type": "code",
   "source": [
    "def predict(X_test, coeff):\n",
    "    weights = coeff['weights']\n",
    "    bias = coeff['bias']\n",
    "\n",
    "    t = np.dot(X_test, weights) + bias\n",
    "\n",
    "    z = sig(t)\n",
    "\n",
    "    return (z > 0.6).astype(int)\n",
    "\n",
    "# coeff, losses = newton_optimization(X_train, Y_train, 100, 0.01)\n",
    "# predict(X_train, coeff)"
   ],
   "metadata": {
    "id": "y8qYCmZXyyHV",
    "is_executing": true
   },
   "execution_count": null,
   "outputs": []
  },
  {
   "cell_type": "markdown",
   "source": [
    "# Оценка модели"
   ],
   "metadata": {
    "id": "DwaxLeM_BjCA"
   }
  },
  {
   "cell_type": "markdown",
   "source": [
    "Определим функцию для подсчета метрик"
   ],
   "metadata": {
    "id": "poZsIzNk2tb0"
   }
  },
  {
   "cell_type": "code",
   "source": [
    "def calculate_metrics(Y_prediction, Y_test):\n",
    "    TP = np.sum((Y_prediction == 1) & (Y_test == 1))\n",
    "    TN = np.sum((Y_prediction == 0) & (Y_test == 0))\n",
    "    FP = np.sum((Y_prediction == 1) & (Y_test == 0))\n",
    "    FN = np.sum((Y_prediction == 0) & (Y_test == 1))\n",
    "\n",
    "    accuracy = (TP + TN) / (TP + TN + FP + FN) if (TP + TN + FP + FN) != 0 else 0\n",
    "    precision = TP / (TP + FP) if (TP + FP) != 0 else 0\n",
    "    recall = TP / (TP + FN) if (TP + FN) != 0 else 0\n",
    "    f1_score = 2 * precision * recall / (precision + recall) if (precision + recall) != 0 else 0\n",
    "\n",
    "    return {'accuracy': accuracy, 'precision': precision,  'recall': recall, 'f1_score': f1_score}"
   ],
   "metadata": {
    "id": "NGpP7mPR2ydS",
    "is_executing": true
   },
   "execution_count": null,
   "outputs": []
  },
  {
   "cell_type": "markdown",
   "source": [
    "# Исследование гиперпараметров"
   ],
   "metadata": {
    "id": "2mzz3ZrrBglr"
   }
  },
  {
   "cell_type": "markdown",
   "source": [
    "Создадим вариации гиперпараметров"
   ],
   "metadata": {
    "id": "aZYs41nH09AI"
   }
  },
  {
   "cell_type": "code",
   "source": [
    "rates = [0.01, 0.2, 0.375, 0.5]\n",
    "iterations = [100, 1000, 5000]"
   ],
   "metadata": {
    "id": "7-Gfwlif0_bc",
    "is_executing": true
   },
   "execution_count": null,
   "outputs": []
  },
  {
   "cell_type": "code",
   "source": [
    "max_f1_score = 0\n",
    "best_params = {}\n",
    "table = PrettyTable(['method', 'rate', 'iterations', 'accuracy', 'precision', 'recall', 'f1_score', 'losses'])\n",
    "table.align['rate'] = \"l\"\n",
    "table.align['iterations'] = \"l\"\n",
    "table.align['accuracy'] = \"l\"\n",
    "table.align['precision'] = \"l\"\n",
    "table.align['recall'] = \"l\"\n",
    "table.align['f1_score'] = \"l\"\n",
    "table.align['losses'] = \"l\"\n",
    "\n",
    "#  Для метода градиентного спуска\n",
    "for rate in rates:\n",
    "    for iteration in iterations:\n",
    "\n",
    "        coeff, losses = gradient_descent(X_train, Y_train, iteration, rate)\n",
    "        Y_prediction = predict(X_test, coeff)\n",
    "\n",
    "        metrics = calculate_metrics(Y_prediction, Y_test)\n",
    "\n",
    "        if (metrics['f1_score'] > max_f1_score):\n",
    "            best_params = {'method': gradient_descent.__name__, 'rate': rate, 'iterations': iteration, 'accuracy': metrics['accuracy'], 'precision': metrics['precision'], 'recall': metrics['recall'], 'f1_score': metrics['f1_score'], 'losses': losses[0] - losses[len(losses) - 1]}\n",
    "\n",
    "        table.add_row([gradient_descent.__name__, rate, iteration, metrics['accuracy'], metrics['precision'], metrics['recall'], metrics['f1_score'], losses[0] - losses[len(losses) - 1]])\n",
    "\n",
    "#  Для метода Ньютона\n",
    "for iteration in iterations:\n",
    "\n",
    "    coeff, losses = newton_optimization(X_train, Y_train, iteration)\n",
    "    Y_prediction = predict(X_test, coeff)\n",
    "\n",
    "    metrics = calculate_metrics(Y_prediction, Y_test)\n",
    "\n",
    "    if (metrics['f1_score'] > max_f1_score):\n",
    "        best_params = {'method': newton_optimization.__name__, 'rate': '-', 'iterations': iteration, 'accuracy': metrics['accuracy'], 'precision': metrics['precision'], 'recall': metrics['recall'], 'f1_score': metrics['f1_score'], 'losses': losses[0] - losses[len(losses) - 1]}\n",
    "\n",
    "    table.add_row([newton_optimization.__name__, '-', iteration, metrics['accuracy'], metrics['precision'], metrics['recall'], metrics['f1_score'], losses[0] - losses[len(losses) - 1]])\n",
    "\n",
    "print(table)"
   ],
   "metadata": {
    "colab": {
     "base_uri": "https://localhost:8080/"
    },
    "id": "WAP2iWw61Yvt",
    "outputId": "bbf44d25-95ee-4feb-f325-c15aa0487e3f",
    "is_executing": true
   },
   "execution_count": null,
   "outputs": []
  },
  {
   "cell_type": "markdown",
   "source": [
    "Выведем лучшую калибровку гиперпараметров"
   ],
   "metadata": {
    "id": "wCEJATJGFCiJ"
   }
  },
  {
   "cell_type": "code",
   "source": [
    "best_params_table = PrettyTable(['method', 'rate', 'iterations', 'accuracy', 'precision', 'recall', 'f1_score', 'losses'])\n",
    "best_params_table.add_row([best_params['method'], best_params['rate'], best_params['iterations'], best_params['accuracy'], best_params['precision'], best_params['recall'], best_params['f1_score'], best_params['losses']])\n",
    "\n",
    "print(best_params_table)"
   ],
   "metadata": {
    "colab": {
     "base_uri": "https://localhost:8080/"
    },
    "id": "uAsAHakIFI8h",
    "outputId": "c8970e62-821f-4998-c57f-3bce2cda7b1e",
    "is_executing": true
   },
   "execution_count": null,
   "outputs": []
  },
  {
   "cell_type": "markdown",
   "source": [
    "# Выводы"
   ],
   "metadata": {
    "id": "tw1MF3k9BoTJ"
   }
  },
  {
   "cell_type": "markdown",
   "source": [
    "В ходе анализа представленной таблицы сравнения был сделан следующий вывод:\n",
    "\n",
    "- Метод ньютона в среднем работает точнее\n",
    "- Для выбора оптимального количества итераций методу ньютона нет надобности варьировать значение learning_rate (шаг) в связи с вычислением гессиана (второй производной функции)\n",
    "- Метод градиентного спуска не всегда сходится к оптимальному решению  (из-за сложной формы функции и множества локальных минимумов)"
   ],
   "metadata": {
    "id": "i5tZVg1TWwJu"
   }
  }
 ]
}
